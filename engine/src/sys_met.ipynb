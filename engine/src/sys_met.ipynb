{
 "cells": [
  {
   "cell_type": "markdown",
   "metadata": {},
   "source": [
    "This is the backend code wrritten in python. \n",
    "- uses psutill : memory and processor Usage.\n",
    "- uses wmi : processes, system info."
   ]
  },
  {
   "cell_type": "code",
   "execution_count": 1,
   "metadata": {},
   "outputs": [
    {
     "name": "stdout",
     "output_type": "stream",
     "text": [
      "{'OSName': 'Microsoft Windows 10 Home|C:\\\\WINDOWS|\\\\Device\\\\Harddisk0\\\\Partition3', 'OSVersion': '10.0.17134', 'SystemRam': 7.872936248779297, 'ProcessInfo': 'Intel(R) Core(TM) i5-7200U CPU @ 2.50GHz', 'GPUInfo': 'Intel(R) HD Graphics 620'}\n",
      "{'ProcessID': [0, 4, 96, 404, 576, 668, 696, 776, 816, 840, 964, 988, 68, 540, 524, 872, 1072, 1120, 1188, 1236, 1268, 1340, 1468, 1480, 1496, 1512, 1552, 1776, 1876, 2044, 1900, 2064, 2112, 2208, 2244, 2340, 2492, 2576, 2744, 2752, 2760, 2832, 2872, 2900, 2940, 2948, 3032, 2200, 2316, 2408, 2356, 2524, 2680, 3128, 3140, 3260, 3304, 3324, 3484, 3556, 3588, 3616, 3724, 3888, 3896, 3904, 3912, 3920, 3928, 3940, 3948, 3956, 3972, 3980, 3992, 4000, 4008, 4024, 4032, 4040, 4048, 4076, 3440, 3636, 3628, 4340, 4436, 4564, 4596, 4608, 4736, 5012, 5056, 5952, 316, 4320, 5904, 716, 5832, 6164, 6200, 6296, 6484, 6828, 6888, 7216, 7412, 7552, 8072, 5860, 828, 7540, 7164, 8204, 8224, 8508, 8624, 8828, 8840, 8336, 8428, 9228, 9316, 9364, 9452, 9848, 10116, 9900, 9480, 11040, 10480, 8620, 3212, 4472, 1560, 1648, 7132, 7600, 9248, 11296, 11408, 11428, 11524, 11644, 12208, 11136, 9608, 8576, 6820, 10140, 9896, 8272, 7080, 8796, 11652, 8364, 12256, 12372, 13260, 9272, 8432, 8248, 11956, 13620, 8352, 13788, 10428, 13676, 13796, 14208, 10800, 13704, 3828, 10444, 12836, 10252, 12504, 14196, 12800, 6072, 14304, 13968, 12248, 3564, 13752, 13688, 8608, 8012, 8436, 13004, 14896, 14332, 13468, 604, 6964, 5876, 5384, 10072, 9872, 4132, 6424, 14996, 6260, 12876, 748, 15148, 12660, 14260, 3352, 12488, 3644, 11728, 784, 13860, 7088, 11180, 3444, 9328, 4664, 11768, 14320, 8844, 6560, 10600, 12600, 12848, 7616, 14924, 7032, 1464, 12348, 2840, 5776, 15152, 12420, 228, 16316, 17080, 17240, 17256, 17292, 16472, 11952, 15200, 3964, 17096, 16008, 15244, 5840, 7864, 10856], 'ProcessName': ['System Idle Process', 'System', 'Registry', 'smss.exe', 'csrss.exe', 'csrss.exe', 'wininit.exe', 'winlogon.exe', 'services.exe', 'lsass.exe', 'svchost.exe', 'WUDFHost.exe', 'svchost.exe', 'fontdrvhost.exe', 'fontdrvhost.exe', 'svchost.exe', 'WUDFHost.exe', 'svchost.exe', 'svchost.exe', 'svchost.exe', 'svchost.exe', 'dwm.exe', 'svchost.exe', 'svchost.exe', 'svchost.exe', 'svchost.exe', 'svchost.exe', 'svchost.exe', 'svchost.exe', 'svchost.exe', 'svchost.exe', 'svchost.exe', 'svchost.exe', 'svchost.exe', 'svchost.exe', 'svchost.exe', 'svchost.exe', 'svchost.exe', 'svchost.exe', 'svchost.exe', 'svchost.exe', 'Memory Compression', 'svchost.exe', 'igfxCUIService.exe', 'svchost.exe', 'svchost.exe', 'svchost.exe', 'RtkAudioService64.exe', 'svchost.exe', 'svchost.exe', 'svchost.exe', 'vpnagent.exe', 'svchost.exe', 'svchost.exe', 'audiodg.exe', 'svchost.exe', 'RAVBg64.exe', 'svchost.exe', 'svchost.exe', 'spoolsv.exe', 'wlanext.exe', 'conhost.exe', 'svchost.exe', 'IntelCpHDCPSvc.exe', 'svchost.exe', 'RegSrvc.exe', 'svchost.exe', 'ibtsiva.exe', 'rlservice.exe', 'svchost.exe', 'svchost.exe', 'mongod.exe', 'SmartByteNetworkService.exe', 'WavesSysSvc64.exe', 'TeamViewer_Service.exe', 'svchost.exe', 'esif_uf.exe', 'svchost.exe', 'MsMpEng.exe', 'RzWizardService.exe', 'SecurityHealthService.exe', 'svchost.exe', 'EvtEng.exe', 'TrueColorALS.exe', 'Recorder.exe', 'svchost.exe', 'svchost.exe', 'svchost.exe', 'IntelCpHeciSvc.exe', 'svchost.exe', 'igfxext.exe', 'svchost.exe', 'ZeroConfigService.exe', 'unsecapp.exe', 'dptf_helper.exe', 'WmiPrvSE.exe', 'sihost.exe', 'svchost.exe', 'svchost.exe', 'WmiPrvSE.exe', 'taskhostw.exe', 'svchost.exe', 'PresentationFontCache.exe', 'explorer.exe', 'svchost.exe', 'svchost.exe', 'svchost.exe', 'igfxEM.exe', 'dllhost.exe', 'svchost.exe', 'svchost.exe', 'ShellExperienceHost.exe', 'svchost.exe', 'Microsoft.Notes.exe', 'RuntimeBroker.exe', 'SearchUI.exe', 'SearchIndexer.exe', 'RuntimeBroker.exe', 'svchost.exe', 'svchost.exe', 'RuntimeBroker.exe', 'RemindersServer.exe', 'Microsoft.Notes.DesktopBridge.exe', 'SkypeBackgroundHost.exe', 'ApplicationFrameHost.exe', 'RuntimeBroker.exe', 'MicrosoftEdge.exe', 'SkypeApp.exe', 'RuntimeBroker.exe', 'SettingSyncHost.exe', 'Video.UI.exe', 'browser_broker.exe', 'dllhost.exe', 'RuntimeBroker.exe', 'ctfmon.exe', 'TabTip.exe', 'svchost.exe', 'svchost.exe', 'MSASCuiL.exe', 'RtkNGUI64.exe', 'RAVBg64.exe', 'TrueColorUI.exe', 'WavesSvc64.exe', 'ptoneclk.exe', 'NisSrv.exe', 'ptsrv.exe', 'svchost.exe', 'LockApp.exe', 'RuntimeBroker.exe', 'svchost.exe', 'vpnui.exe', 'svchost.exe', 'jusched.exe', 'RzWizard.exe', 'ptOIEx.exe', 'svchost.exe', 'DDVRulesProcessor.exe', 'IAStorIcon.exe', 'DSAPI.exe', 'svchost.exe', 'pcdrwi.exe', 'conhost.exe', 'Code.exe', 'Code.exe', 'Code.exe', 'Code.exe', 'Code.exe', 'winpty-agent.exe', 'conhost.exe', 'powershell.exe', 'Code.exe', 'CodeHelper.exe', 'conhost.exe', 'Code.exe', 'IAStorDataMgrSvc.exe', 'GoogleCrashHandler.exe', 'GoogleCrashHandler64.exe', 'sedsvc.exe', 'SgrmBroker.exe', 'SupportAssistAgent.exe', 'DDVDataCollector.exe', 'DDVCollectorSvcApi.exe', 'chrome.exe', 'chrome.exe', 'chrome.exe', 'chrome.exe', 'chrome.exe', 'chrome.exe', 'chrome.exe', 'GameBar.exe', 'chrome.exe', 'cmd.exe', 'node.exe', 'notepad++.exe', 'cmd.exe', 'conhost.exe', 'node.exe', 'chrome.exe', 'cmd.exe', 'conhost.exe', 'jupyter-notebook.exe', 'python.exe', 'cmd.exe', 'conhost.exe', 'jupyter-notebook.exe', 'python.exe', 'RuntimeBroker.exe', 'MicrosoftEdgeCP.exe', 'MicrosoftEdgeCP.exe', 'MicrosoftEdgeCP.exe', 'svchost.exe', 'backgroundTaskHost.exe', 'RuntimeBroker.exe', 'SupportAssistAppWire.exe', 'svchost.exe', 'Microsoft.Photos.exe', 'RuntimeBroker.exe', 'chrome.exe', 'chrome.exe', 'python.exe', 'MicrosoftEdgeCP.exe', 'MicrosoftEdgeCP.exe', 'python.exe', 'python.exe', 'python.exe', 'MicrosoftEdgeCP.exe', 'mongo.exe', 'conhost.exe', 'WinStore.App.exe', 'RuntimeBroker.exe', 'HxOutlook.exe', 'RuntimeBroker.exe', 'HxTsr.exe', 'HxCalendarAppImm.exe', 'svchost.exe', 'svchost.exe', 'svchost.exe', 'rlvknlg.exe', 'unsecapp.exe', 'cmd.exe', 'cmd.exe', 'rlvknlg64.exe', 'rlvknlg32.exe', 'chrome.exe', 'backgroundTaskHost.exe', 'svchost.exe', 'SearchProtocolHost.exe', 'SearchFilterHost.exe', 'chrome.exe', 'chrome.exe', 'SearchProtocolHost.exe'], 'ProcessExePath': [None, None, None, None, None, None, None, None, None, None, None, None, None, None, None, None, None, None, None, None, None, None, None, None, None, None, None, None, None, None, None, None, None, None, None, None, None, None, None, None, None, None, None, None, None, None, None, None, None, None, None, None, None, None, None, None, None, None, None, None, None, None, None, None, None, None, None, None, None, None, None, None, None, None, None, None, None, None, None, None, None, None, None, None, None, None, None, None, None, None, None, None, None, None, 'C:\\\\WINDOWS\\\\system32\\\\Intel\\\\DPTF\\\\dptf_helper.exe', None, 'c:\\\\windows\\\\system32\\\\sihost.exe', 'c:\\\\windows\\\\system32\\\\svchost.exe', 'c:\\\\windows\\\\system32\\\\svchost.exe', None, 'c:\\\\windows\\\\system32\\\\taskhostw.exe', None, None, 'C:\\\\WINDOWS\\\\Explorer.EXE', None, None, None, 'C:\\\\WINDOWS\\\\System32\\\\DriverStore\\\\FileRepository\\\\ki125183.inf_amd64_cb49708b33bad074\\\\igfxEM.exe', 'C:\\\\WINDOWS\\\\system32\\\\DllHost.exe', None, 'c:\\\\windows\\\\system32\\\\svchost.exe', 'C:\\\\Windows\\\\SystemApps\\\\ShellExperienceHost_cw5n1h2txyewy\\\\ShellExperienceHost.exe', None, 'C:\\\\Program Files\\\\WindowsApps\\\\Microsoft.MicrosoftStickyNotes_3.0.120.0_x64__8wekyb3d8bbwe\\\\Microsoft.Notes.exe', 'C:\\\\Windows\\\\System32\\\\RuntimeBroker.exe', 'C:\\\\Windows\\\\SystemApps\\\\Microsoft.Windows.Cortana_cw5n1h2txyewy\\\\SearchUI.exe', None, 'C:\\\\Windows\\\\System32\\\\RuntimeBroker.exe', None, None, 'C:\\\\Windows\\\\System32\\\\RuntimeBroker.exe', 'C:\\\\Windows\\\\SystemApps\\\\Microsoft.Windows.Cortana_cw5n1h2txyewy\\\\RemindersServer.exe', 'C:\\\\Program Files\\\\WindowsApps\\\\Microsoft.MicrosoftStickyNotes_3.0.120.0_x64__8wekyb3d8bbwe\\\\Microsoft.Notes.DesktopBridge.exe', 'C:\\\\Program Files\\\\WindowsApps\\\\Microsoft.SkypeApp_14.34.81.0_x64__kzf8qxf38zg5c\\\\SkypeBackgroundHost.exe', 'C:\\\\WINDOWS\\\\system32\\\\ApplicationFrameHost.exe', 'C:\\\\Windows\\\\System32\\\\RuntimeBroker.exe', 'C:\\\\Windows\\\\SystemApps\\\\Microsoft.MicrosoftEdge_8wekyb3d8bbwe\\\\MicrosoftEdge.exe', 'C:\\\\Program Files\\\\WindowsApps\\\\Microsoft.SkypeApp_14.34.81.0_x64__kzf8qxf38zg5c\\\\SkypeApp.exe', 'C:\\\\Windows\\\\System32\\\\RuntimeBroker.exe', 'C:\\\\WINDOWS\\\\system32\\\\SettingSyncHost.exe', 'C:\\\\Program Files\\\\WindowsApps\\\\Microsoft.ZuneVideo_10.18082.13811.0_x64__8wekyb3d8bbwe\\\\Video.UI.exe', 'C:\\\\WINDOWS\\\\system32\\\\browser_broker.exe', 'C:\\\\WINDOWS\\\\system32\\\\DllHost.exe', 'C:\\\\Windows\\\\System32\\\\RuntimeBroker.exe', None, None, None, None, 'C:\\\\Program Files\\\\Windows Defender\\\\MSASCuiL.exe', 'C:\\\\Program Files\\\\Realtek\\\\Audio\\\\HDA\\\\RtkNGUI64.exe', 'C:\\\\Program Files\\\\Realtek\\\\Audio\\\\HDA\\\\RAVBg64.exe', 'C:\\\\Program Files\\\\TrueColor\\\\TrueColorUI.exe', 'C:\\\\Program Files\\\\Waves\\\\MaxxAudio\\\\WavesSvc64.exe', 'C:\\\\Users\\\\aishw\\\\AppData\\\\Local\\\\WebEx\\\\WebEx\\\\Applications\\\\ptoneclk.exe', None, 'C:\\\\Users\\\\aishw\\\\AppData\\\\Local\\\\Webex\\\\Webex\\\\Applications\\\\ptSrv.exe', None, 'C:\\\\Windows\\\\SystemApps\\\\Microsoft.LockApp_cw5n1h2txyewy\\\\LockApp.exe', 'C:\\\\Windows\\\\System32\\\\RuntimeBroker.exe', None, 'C:\\\\Program Files (x86)\\\\Cisco\\\\Cisco AnyConnect Secure Mobility Client\\\\vpnui.exe', None, 'C:\\\\Program Files (x86)\\\\Common Files\\\\Java\\\\Java Update\\\\jusched.exe', 'C:\\\\Program Files (x86)\\\\Razer\\\\RzWizard\\\\RzWizard.exe', 'C:\\\\Users\\\\aishw\\\\AppData\\\\Local\\\\Webex\\\\Webex\\\\Applications\\\\ptOIEx.exe', None, None, 'C:\\\\Program Files\\\\Intel\\\\Intel(R) Rapid Storage Technology\\\\IAStorIcon.exe', None, None, None, None, 'C:\\\\Users\\\\aishw\\\\AppData\\\\Local\\\\Programs\\\\Microsoft VS Code\\\\Code.exe', 'C:\\\\Users\\\\aishw\\\\AppData\\\\Local\\\\Programs\\\\Microsoft VS Code\\\\Code.exe', 'C:\\\\Users\\\\aishw\\\\AppData\\\\Local\\\\Programs\\\\Microsoft VS Code\\\\Code.exe', 'C:\\\\Users\\\\aishw\\\\AppData\\\\Local\\\\Programs\\\\Microsoft VS Code\\\\Code.exe', 'C:\\\\Users\\\\aishw\\\\AppData\\\\Local\\\\Programs\\\\Microsoft VS Code\\\\Code.exe', '\\\\\\\\?\\\\c:\\\\Users\\\\aishw\\\\AppData\\\\Local\\\\Programs\\\\Microsoft VS Code\\\\resources\\\\app\\\\node_modules.asar.unpacked\\\\node-pty\\\\build\\\\Release\\\\winpty-agent.exe', 'C:\\\\WINDOWS\\\\system32\\\\conhost.exe', 'C:\\\\WINDOWS\\\\System32\\\\WindowsPowerShell\\\\v1.0\\\\powershell.exe', 'C:\\\\Users\\\\aishw\\\\AppData\\\\Local\\\\Programs\\\\Microsoft VS Code\\\\Code.exe', 'c:\\\\Users\\\\aishw\\\\AppData\\\\Local\\\\Programs\\\\Microsoft VS Code\\\\resources\\\\app\\\\out\\\\vs\\\\workbench\\\\services\\\\files\\\\node\\\\watcher\\\\win32\\\\CodeHelper.exe', 'C:\\\\WINDOWS\\\\system32\\\\conhost.exe', 'C:\\\\Users\\\\aishw\\\\AppData\\\\Local\\\\Programs\\\\Microsoft VS Code\\\\Code.exe', None, None, None, None, None, None, None, None, 'C:\\\\Program Files (x86)\\\\Google\\\\Chrome\\\\Application\\\\chrome.exe', 'C:\\\\Program Files (x86)\\\\Google\\\\Chrome\\\\Application\\\\chrome.exe', 'C:\\\\Program Files (x86)\\\\Google\\\\Chrome\\\\Application\\\\chrome.exe', 'C:\\\\Program Files (x86)\\\\Google\\\\Chrome\\\\Application\\\\chrome.exe', 'C:\\\\Program Files (x86)\\\\Google\\\\Chrome\\\\Application\\\\chrome.exe', 'C:\\\\Program Files (x86)\\\\Google\\\\Chrome\\\\Application\\\\chrome.exe', 'C:\\\\Program Files (x86)\\\\Google\\\\Chrome\\\\Application\\\\chrome.exe', 'C:\\\\Program Files\\\\WindowsApps\\\\Microsoft.XboxGamingOverlay_1.16.1012.0_x64__8wekyb3d8bbwe\\\\GameBar.exe', 'C:\\\\Program Files (x86)\\\\Google\\\\Chrome\\\\Application\\\\chrome.exe', 'C:\\\\WINDOWS\\\\system32\\\\cmd.exe', 'C:\\\\Program Files\\\\nodejs\\\\node.exe', 'C:\\\\Program Files (x86)\\\\Notepad++\\\\notepad++.exe', 'C:\\\\WINDOWS\\\\system32\\\\cmd.exe', 'C:\\\\WINDOWS\\\\system32\\\\conhost.exe', 'C:\\\\Program Files\\\\nodejs\\\\node.exe', 'C:\\\\Program Files (x86)\\\\Google\\\\Chrome\\\\Application\\\\chrome.exe', 'C:\\\\WINDOWS\\\\system32\\\\cmd.exe', 'C:\\\\WINDOWS\\\\system32\\\\conhost.exe', 'C:\\\\Users\\\\aishw\\\\Anaconda3\\\\Scripts\\\\jupyter-notebook.exe', 'C:\\\\Users\\\\aishw\\\\Anaconda3\\\\python.exe', 'C:\\\\WINDOWS\\\\system32\\\\cmd.exe', 'C:\\\\WINDOWS\\\\system32\\\\conhost.exe', 'C:\\\\Users\\\\aishw\\\\Anaconda3\\\\Scripts\\\\jupyter-notebook.exe', 'C:\\\\Users\\\\aishw\\\\Anaconda3\\\\python.exe', 'C:\\\\Windows\\\\System32\\\\RuntimeBroker.exe', 'C:\\\\Windows\\\\SystemApps\\\\Microsoft.MicrosoftEdge_8wekyb3d8bbwe\\\\MicrosoftEdgeCP.exe', 'C:\\\\Windows\\\\SystemApps\\\\Microsoft.MicrosoftEdge_8wekyb3d8bbwe\\\\MicrosoftEdgeCP.exe', 'C:\\\\Windows\\\\SystemApps\\\\Microsoft.MicrosoftEdge_8wekyb3d8bbwe\\\\MicrosoftEdgeCP.exe', None, 'C:\\\\WINDOWS\\\\system32\\\\backgroundTaskHost.exe', 'C:\\\\Windows\\\\System32\\\\RuntimeBroker.exe', 'C:\\\\Program Files\\\\WindowsApps\\\\DellInc.DellSupportAssistforPCs_3.1.15.0_x64__htrsf667h5kn2\\\\win32\\\\SupportAssistAppWire.exe', None, 'C:\\\\Program Files\\\\WindowsApps\\\\Microsoft.Windows.Photos_2018.18091.17210.0_x64__8wekyb3d8bbwe\\\\Microsoft.Photos.exe', 'C:\\\\Windows\\\\System32\\\\RuntimeBroker.exe', 'C:\\\\Program Files (x86)\\\\Google\\\\Chrome\\\\Application\\\\chrome.exe', 'C:\\\\Program Files (x86)\\\\Google\\\\Chrome\\\\Application\\\\chrome.exe', 'C:\\\\Users\\\\aishw\\\\Anaconda3\\\\python.exe', 'C:\\\\Windows\\\\SystemApps\\\\Microsoft.MicrosoftEdge_8wekyb3d8bbwe\\\\MicrosoftEdgeCP.exe', 'C:\\\\Windows\\\\SystemApps\\\\Microsoft.MicrosoftEdge_8wekyb3d8bbwe\\\\MicrosoftEdgeCP.exe', 'C:\\\\Users\\\\aishw\\\\Anaconda3\\\\python.exe', 'C:\\\\Users\\\\aishw\\\\Anaconda3\\\\python.exe', 'C:\\\\Users\\\\aishw\\\\Anaconda3\\\\python.exe', 'C:\\\\Windows\\\\SystemApps\\\\Microsoft.MicrosoftEdge_8wekyb3d8bbwe\\\\MicrosoftEdgeCP.exe', 'C:\\\\Program Files\\\\MongoDB\\\\Server\\\\4.0\\\\bin\\\\mongo.exe', 'C:\\\\WINDOWS\\\\system32\\\\conhost.exe', 'C:\\\\Program Files\\\\WindowsApps\\\\Microsoft.WindowsStore_11810.1001.12.0_x64__8wekyb3d8bbwe\\\\WinStore.App.exe', 'C:\\\\Windows\\\\System32\\\\RuntimeBroker.exe', 'C:\\\\Program Files\\\\WindowsApps\\\\microsoft.windowscommunicationsapps_16005.11001.20106.0_x64__8wekyb3d8bbwe\\\\HxOutlook.exe', 'C:\\\\Windows\\\\System32\\\\RuntimeBroker.exe', 'C:\\\\Program Files\\\\WindowsApps\\\\microsoft.windowscommunicationsapps_16005.11001.20106.0_x64__8wekyb3d8bbwe\\\\HxTsr.exe', 'C:\\\\Program Files\\\\WindowsApps\\\\microsoft.windowscommunicationsapps_16005.11001.20106.0_x64__8wekyb3d8bbwe\\\\HxCalendarAppImm.exe', None, None, None, 'C:\\\\Program Files (x86)\\\\RelevantKnowledge\\\\rlvknlg.exe', 'C:\\\\WINDOWS\\\\system32\\\\wbem\\\\unsecapp.exe', 'C:\\\\WINDOWS\\\\SysWOW64\\\\cmd.exe', 'C:\\\\WINDOWS\\\\SysWOW64\\\\cmd.exe', None, None, 'C:\\\\Program Files (x86)\\\\Google\\\\Chrome\\\\Application\\\\chrome.exe', 'C:\\\\WINDOWS\\\\system32\\\\backgroundTaskHost.exe', 'C:\\\\WINDOWS\\\\system32\\\\svchost.exe', 'C:\\\\WINDOWS\\\\system32\\\\SearchProtocolHost.exe', None, 'C:\\\\Program Files (x86)\\\\Google\\\\Chrome\\\\Application\\\\chrome.exe', 'C:\\\\Program Files (x86)\\\\Google\\\\Chrome\\\\Application\\\\chrome.exe', None], 'ProcessStatus': [None, None, None, None, None, None, None, None, None, None, None, None, None, None, None, None, None, None, None, None, None, None, None, None, None, None, None, None, None, None, None, None, None, None, None, None, None, None, None, None, None, None, None, None, None, None, None, None, None, None, None, None, None, None, None, None, None, None, None, None, None, None, None, None, None, None, None, None, None, None, None, None, None, None, None, None, None, None, None, None, None, None, None, None, None, None, None, None, None, None, None, None, None, None, None, None, None, None, None, None, None, None, None, None, None, None, None, None, None, None, None, None, None, None, None, None, None, None, None, None, None, None, None, None, None, None, None, None, None, None, None, None, None, None, None, None, None, None, None, None, None, None, None, None, None, None, None, None, None, None, None, None, None, None, None, None, None, None, None, None, None, None, None, None, None, None, None, None, None, None, None, None, None, None, None, None, None, None, None, None, None, None, None, None, None, None, None, None, None, None, None, None, None, None, None, None, None, None, None, None, None, None, None, None, None, None, None, None, None, None, None, None, None, None, None, None, None, None, None, None, None, None, None, None, None, None, None, None, None, None, None, None, None, None, None, None, None, None, None, None, None, None, None, None, None, None, None, None, None, None, None]}\n",
      "{'MemoryUsage': svmem(total=8453500928, available=3082186752, percent=63.5, used=5371314176, free=3082186752), 'ProcessorUsage': 38.8}\n"
     ]
    }
   ],
   "source": [
    "# coding: utf-8\n",
    "#metric.py\n",
    "#Aishwarya Pagalla\n",
    "# oct 5 2018\n",
    "import wmi\n",
    "import psutil\n",
    "import datetime\n",
    "\n",
    "class sys_met():\n",
    "    '''\n",
    " This a piece of code works to get processes running on a System along with System info using wmi library and psutill to get usages(memory & cpu) \n",
    "programming language : python \n",
    "\n",
    "'''\n",
    "    #initializing Dictionaries\n",
    "    met = {}\n",
    "    sett = {}\n",
    "    inf = {}\n",
    "    #initializing Lists\n",
    "    PID, PN, PE, PS = ([] for i in range(4))\n",
    "    #Accessing WMI Class from wmi\n",
    "    SYS = wmi.WMI()\n",
    "    OSINFO = SYS.Win32_OperatingSYStem()[0]\n",
    "    PROCINFO = SYS.Win32_Processor()[0]\n",
    "    GPUINFO = SYS.Win32_VideoController()[0]\n",
    "    OSNAME = OSINFO.Name\n",
    "    OSVERSION = OSINFO.Version\n",
    "    SYSRAM = float(OSINFO.TotalVisibleMemorySize) / 1048576  # KB to GB\n",
    "    #appending values to dictionaries\n",
    "    inf[\"OSName\"] = OSNAME\n",
    "    inf[\"OSVersion\"] = OSVERSION\n",
    "    inf[\"SystemRam\"] = SYSRAM\n",
    "    inf[\"ProcessInfo\"] = PROCINFO.Name\n",
    "    inf[\"GPUInfo\"] = GPUINFO.Name\n",
    "    print(inf)\n",
    "    # processes\n",
    "    for process in SYS.Win32_Process():\n",
    "        PID.append(process.ProcessId)\n",
    "        PN.append(process.Name)\n",
    "        PE.append(process.executablepath)\n",
    "        PS.append(process.Status)\n",
    "        met[\"ProcessID\"] = PID\n",
    "        met[\"ProcessName\"] = PN\n",
    "        met[\"ProcessExePath\"] = PE\n",
    "        met[\"ProcessStatus\"] = PS\t\n",
    "    print( met)\n",
    "    #Accessing methods form psutil\n",
    "    PROCU = psutil.cpu_percent()\n",
    "    MEMU = psutil.virtual_memory()\n",
    "    sett[\"MemoryUsage\"] = MEMU\n",
    "    sett[\"ProcessorUsage\"] = PROCU\n",
    "    print(sett)\n",
    "  \n",
    "  "
   ]
  },
  {
   "cell_type": "code",
   "execution_count": null,
   "metadata": {},
   "outputs": [],
   "source": []
  }
 ],
 "metadata": {
  "kernelspec": {
   "display_name": "Python 3",
   "language": "python",
   "name": "python3"
  },
  "language_info": {
   "codemirror_mode": {
    "name": "ipython",
    "version": 3
   },
   "file_extension": ".py",
   "mimetype": "text/x-python",
   "name": "python",
   "nbconvert_exporter": "python",
   "pygments_lexer": "ipython3",
   "version": "3.6.5"
  }
 },
 "nbformat": 4,
 "nbformat_minor": 2
}
